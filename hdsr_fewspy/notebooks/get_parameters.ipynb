{
 "cells": [
  {
   "cell_type": "code",
   "execution_count": 1,
   "id": "13fa3c49",
   "metadata": {},
   "outputs": [],
   "source": [
    "import time\n",
    "from datetime import datetime\n",
    "\n",
    "from fewspy.api import Api"
   ]
  },
  {
   "cell_type": "code",
   "execution_count": 2,
   "id": "c9389c1e",
   "metadata": {},
   "outputs": [],
   "source": [
    "LOCATION_IDS = [\n",
    "    \"NL34.HL.KGM154.LWZ1\",\n",
    "    \"NL34.HL.KGM154.HWZ1\",\n",
    "    \"NL34.HL.KGM154.KWK\",\n",
    "    \"NL34.HL.KGM156.PMP2\",\n",
    "    \"NL34.HL.KGM156.HWZ1\",\n",
    "    \"NL34.HL.KGM155.HWZ1\",\n",
    "    \"NL34.HL.KGM156.KSL1\",\n",
    "    \"NL34.HL.KGM156.LWZ1\",\n",
    "    \"NL34.HL.KGM156.PMP1\",\n",
    "    \"NL34.HL.KGM154.PMP1\",\n",
    "    \"NL34.HL.KGM155.LWZ1\"\n",
    "]\n",
    "PARAMETER_IDS = [\"Q [m3/s] [NVT] [OW]\", \"WATHTE [m] [NAP] [OW]\"]\n",
    "\n",
    "api = Api(\n",
    "    url=\"https://www.hydrobase.nl/fews/nzv/FewsWebServices/rest/fewspiservice/v1/\"\n",
    ")"
   ]
  }
 ],
 "metadata": {
  "kernelspec": {
   "display_name": "Python 3 (ipykernel)",
   "language": "python",
   "name": "python3"
  },
  "language_info": {
   "codemirror_mode": {
    "name": "ipython",
    "version": 3
   },
   "file_extension": ".py",
   "mimetype": "text/x-python",
   "name": "python",
   "nbconvert_exporter": "python",
   "pygments_lexer": "ipython3",
   "version": "3.7.0"
  }
 },
 "nbformat": 4,
 "nbformat_minor": 5
}
